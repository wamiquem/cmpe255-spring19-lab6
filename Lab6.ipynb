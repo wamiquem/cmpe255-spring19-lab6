{
 "cells": [
  {
   "cell_type": "code",
   "execution_count": 32,
   "metadata": {},
   "outputs": [],
   "source": [
    "import numpy as np\n",
    "import matplotlib\n",
    "import matplotlib.pyplot as plt"
   ]
  },
  {
   "cell_type": "code",
   "execution_count": 33,
   "metadata": {},
   "outputs": [
    {
     "name": "stdout",
     "output_type": "stream",
     "text": [
      "Dependent variable = Number of Deaths\n",
      "Independent variable = Age\n"
     ]
    }
   ],
   "source": [
    "Age = np.array([[17.5], [22], [29.5], [44.5], [64.5], [80]])\n",
    "Nd = np.array([[38], [36], [24], [20], [18], [28]])\n",
    "print(\"Dependent variable = Number of Deaths\")\n",
    "print(\"Independent variable = Age\")"
   ]
  },
  {
   "cell_type": "code",
   "execution_count": 34,
   "metadata": {},
   "outputs": [
    {
     "name": "stdout",
     "output_type": "stream",
     "text": [
      "theta_best -  [[35.58180453]\n",
      " [-0.19182491]]\n"
     ]
    }
   ],
   "source": [
    "X_b = np.c_[np.ones((6, 1)), Age]  \n",
    "theta_best = np.linalg.inv(X_b.T.dot(X_b)).dot(X_b.T).dot(Nd)\n",
    "print(\"theta_best - \", theta_best)"
   ]
  },
  {
   "cell_type": "code",
   "execution_count": 35,
   "metadata": {},
   "outputs": [
    {
     "data": {
      "image/png": "[encoded data removed]",
      "text/plain": [
       "<Figure size 432x288 with 1 Axes>"
      ]
     },
     "metadata": {
      "needs_background": "light"
     },
     "output_type": "display_data"
    }
   ],
   "source": [
    "import matplotlib.pyplot as plt\n",
    "plt.plot(Age, Nd, \"b.\")\n",
    "plt.xlabel(\"Age\", fontsize=18)\n",
    "plt.ylabel(\"Number of Deaths\", fontsize=18)\n",
    "plt.axis([15, 85, 15, 50])\n",
    "plt.show()"
   ]
  },
  {
   "cell_type": "code",
   "execution_count": 36,
   "metadata": {},
   "outputs": [
    {
     "name": "stdout",
     "output_type": "stream",
     "text": [
      "y =  [35.58180453] + [-0.19182491] x\n"
     ]
    }
   ],
   "source": [
    "print(\"y = \",theta_best[0],\"+\",theta_best[1],\"x\")"
   ]
  },
  {
   "cell_type": "code",
   "execution_count": 38,
   "metadata": {},
   "outputs": [
    {
     "data": {
      "text/plain": [
       "array([[35.58180453],\n",
       "       [16.39931338]])"
      ]
     },
     "execution_count": 38,
     "metadata": {},
     "output_type": "execute_result"
    }
   ],
   "source": [
    "X_new = np.array([[0], [100]])\n",
    "X_new_b = np.c_[np.ones((2, 1)), X_new]  # add x0 = 1 to each instance\n",
    "y_predict = X_new_b.dot(theta_best)\n",
    "y_predict"
   ]
  },
  {
   "cell_type": "code",
   "execution_count": 39,
   "metadata": {},
   "outputs": [
    {
     "data": {
      "image/png": "[encoded data removed]",
      "text/plain": [
       "<Figure size 432x288 with 1 Axes>"
      ]
     },
     "metadata": {
      "needs_background": "light"
     },
     "output_type": "display_data"
    }
   ],
   "source": [
    "plt.plot(X_new, y_predict, \"r-\", linewidth=2, label=\"Predictions\")\n",
    "plt.plot(Age, Nd, \"b.\")\n",
    "plt.xlabel(\"Age\", fontsize=18)\n",
    "plt.ylabel(\"Number of Deaths\", fontsize=18)\n",
    "plt.legend(loc=\"upper left\", fontsize=14)\n",
    "plt.axis([15, 85, 15, 50])\n",
    "plt.show()"
   ]
  },
  {
   "cell_type": "code",
   "execution_count": 40,
   "metadata": {},
   "outputs": [
    {
     "name": "stdout",
     "output_type": "stream",
     "text": [
      "Prediction(Number of deaths at the age of 40) -  [27.90880807]\n",
      "Prediction(Number of deaths at the age of 60) -  [24.07230984]\n"
     ]
    }
   ],
   "source": [
    "print(\"Prediction(Number of deaths at the age of 40) - \",theta_best[0]+theta_best[1]*40)\n",
    "print(\"Prediction(Number of deaths at the age of 60) - \",theta_best[0]+theta_best[1]*60)"
   ]
  },
  {
   "cell_type": "code",
   "execution_count": 41,
   "metadata": {},
   "outputs": [
    {
     "name": "stdout",
     "output_type": "stream",
     "text": [
      "Correlation coefficient - [-0.57874371]\n"
     ]
    }
   ],
   "source": [
    "from scipy.stats.stats import pearsonr\n",
    "p = pearsonr(Age, Nd)\n",
    "print(\"Correlation coefficient -\",p[0])"
   ]
  },
  {
   "cell_type": "code",
   "execution_count": 1,
   "metadata": {},
   "outputs": [
    {
     "name": "stdout",
     "output_type": "stream",
     "text": [
      "As Pearson's r is negative, there is negative association - As Age increases, number of deaths decreases.\n"
     ]
    }
   ],
   "source": [
    "print(\"As Pearson's r is negative, there is negative association - As Age increases, number of deaths decreases.\")"
   ]
  },
  {
   "cell_type": "code",
   "execution_count": null,
   "metadata": {},
   "outputs": [],
   "source": []
  }
 ],
 "metadata": {
  "kernelspec": {
   "display_name": "Python 3",
   "language": "python",
   "name": "python3"
  },
  "language_info": {
   "codemirror_mode": {
    "name": "ipython",
    "version": 3
   },
   "file_extension": ".py",
   "mimetype": "text/x-python",
   "name": "python",
   "nbconvert_exporter": "python",
   "pygments_lexer": "ipython3",
   "version": "3.7.2"
  }
 },
 "nbformat": 4,
 "nbformat_minor": 2
}
